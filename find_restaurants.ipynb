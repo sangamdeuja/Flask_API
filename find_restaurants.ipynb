{
 "cells": [
  {
   "cell_type": "code",
   "execution_count": 8,
   "metadata": {},
   "outputs": [],
   "source": [
    "# Importing the required libraries for creating Flask based api\n",
    "import flask,json\n",
    "from flask import request,jsonify\n",
    "from geopy.distance import great_circle,geodesic"
   ]
  },
  {
   "cell_type": "code",
   "execution_count": 12,
   "metadata": {},
   "outputs": [],
   "source": [
    "# Reading the json file\n",
    "with open(\"restaurants.json\",'r') as fh:\n",
    "    fileContent=json.load(fh)"
   ]
  },
  {
   "cell_type": "code",
   "execution_count": 13,
   "metadata": {},
   "outputs": [],
   "source": [
    "# Creating Flask instance\n",
    "app=flask.Flask(__name__)\n",
    "app.config[\"DEBUG\"]=True"
   ]
  },
  {
   "cell_type": "code",
   "execution_count": 9,
   "metadata": {},
   "outputs": [],
   "source": [
    "# Mapping Url to function using route\n",
    "@app.route(\"/\",methods=[\"GET\"])\n",
    "def file_contents():\n",
    "    ''' Returns the contents of json file'''\n",
    "    return fileContent\n",
    "restname=[]\n",
    "\n",
    "@app.route(\"/restaurants\",methods=[\"GET\"])\n",
    "def return_restaurantsname():\n",
    "    '''Returns the listed restaurants name in data'''\n",
    "    for restaurants in fileContent[\"restaurants\"]:\n",
    "        restname.append(restaurants[\"name\"])\n",
    "    return jsonify({\"restname\":restname})\n",
    "\n",
    "@app.route('/restaurants/search', methods=['GET'])\n",
    "def matched_resturants():\n",
    "    '''Returns the most relevant restaurants within 3 km distance range'''\n",
    "    # Fetching arguments as q:resturant hint, lat,lon: geolocation provided\n",
    "    q= request.args.get('q', None)\n",
    "    lat= request.args.get('lat', None)\n",
    "    lon = request.args.get('lon', None)\n",
    "    restaurants_in_range={}\n",
    "    # Converting case to lower to q and tokens variable make case-insensitive\n",
    "    # Variable q contains string parameter from query\n",
    "    q=q.lower().split(\" \")\n",
    "    \n",
    "    for restaurants in fileContent[\"restaurants\"]:\n",
    "        # Variabe tokens contains all the string information from resaturant name,description and tags\n",
    "        tokens=[]\n",
    "        description=restaurants[\"description\"].split(\" \")\n",
    "        name=restaurants[\"name\"].split(\" \")\n",
    "        tokens=restaurants[\"tags\"]+description+name\n",
    "        tokens=[x.lower() for x in tokens]\n",
    "        lo,la=restaurants['location']\n",
    "        # Calculating the distance between query location to all restaurants geolocations\n",
    "        dist=great_circle((la,lo),(lat,lon)).km\n",
    "        \n",
    "        # Jaccard similarity approach to score the query string and the restuarnts name,description and tags informations\n",
    "        js_score=len(set(q).intersection(set(tokens)))/len(set(q).union(set(tokens)))\n",
    " \n",
    "        # Saving the resaurants whose js_score is greater than zero and distance from query(lat,lon) is within 3 km range\n",
    "        if js_score>0.0 and (dist<3):\n",
    "            restaurants_in_range[restaurants['name']]=js_score\n",
    "            \n",
    "    #sorting based upon jaccard similarity score\n",
    "    matches=sorted(restaurants_in_range.items(),key=lambda t: t[1],reverse=True)\n",
    "    return jsonify({\"matched_restaurants\":matches})\n",
    "\n",
    "app.run()"
   ]
  }
 ],
 "metadata": {
  "kernelspec": {
   "display_name": "PySpark",
   "language": "python",
   "name": "pispark"
  },
  "language_info": {
   "codemirror_mode": {
    "name": "ipython",
    "version": 3
   },
   "file_extension": ".py",
   "mimetype": "text/x-python",
   "name": "python",
   "nbconvert_exporter": "python",
   "pygments_lexer": "ipython3",
   "version": "3.10.4"
  },
  "toc": {
   "base_numbering": 1,
   "nav_menu": {},
   "number_sections": true,
   "sideBar": true,
   "skip_h1_title": false,
   "title_cell": "Table of Contents",
   "title_sidebar": "Contents",
   "toc_cell": false,
   "toc_position": {},
   "toc_section_display": true,
   "toc_window_display": false
  },
  "varInspector": {
   "cols": {
    "lenName": 16,
    "lenType": 16,
    "lenVar": 40
   },
   "kernels_config": {
    "python": {
     "delete_cmd_postfix": "",
     "delete_cmd_prefix": "del ",
     "library": "var_list.py",
     "varRefreshCmd": "print(var_dic_list())"
    },
    "r": {
     "delete_cmd_postfix": ") ",
     "delete_cmd_prefix": "rm(",
     "library": "var_list.r",
     "varRefreshCmd": "cat(var_dic_list()) "
    }
   },
   "types_to_exclude": [
    "module",
    "function",
    "builtin_function_or_method",
    "instance",
    "_Feature"
   ],
   "window_display": false
  }
 },
 "nbformat": 4,
 "nbformat_minor": 2
}
